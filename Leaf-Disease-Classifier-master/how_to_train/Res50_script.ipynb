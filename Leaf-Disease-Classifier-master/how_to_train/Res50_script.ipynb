{
  "nbformat": 4,
  "nbformat_minor": 0,
  "metadata": {
    "colab": {
      "name": "Res50_script.ipynb",
      "provenance": [],
      "collapsed_sections": [],
      "include_colab_link": true
    },
    "kernelspec": {
      "name": "python3",
      "display_name": "Python 3"
    },
    "accelerator": "GPU"
  },
  "cells": [
    {
      "cell_type": "markdown",
      "metadata": {
        "id": "view-in-github",
        "colab_type": "text"
      },
      "source": [
        "<a href=\"https://colab.research.google.com/github/deepakHonakeri05/Leaf-Disease-Classifier/blob/master/Res50_script.ipynb\" target=\"_parent\"><img src=\"https://colab.research.google.com/assets/colab-badge.svg\" alt=\"Open In Colab\"/></a>"
      ]
    },
    {
      "cell_type": "markdown",
      "metadata": {
        "id": "ot1048PD4mL9",
        "colab_type": "text"
      },
      "source": [
        "Getting Dataset"
      ]
    },
    {
      "cell_type": "markdown",
      "metadata": {
        "id": "YTua-KtaLQEK",
        "colab_type": "text"
      },
      "source": [
        "!git clone https://github.com/deepakHonakeri05/yolo_dataset.git"
      ]
    },
    {
      "cell_type": "code",
      "metadata": {
        "id": "gCOI2GlQL0Qk",
        "colab_type": "code",
        "colab": {
          "base_uri": "https://localhost:8080/",
          "height": 34
        },
        "outputId": "380f075e-200d-4b92-be9b-34235e9e1faa"
      },
      "source": [
        "from tensorflow.python.keras.applications import ResNet50\n",
        "from tensorflow.python.keras.models import Sequential\n",
        "from tensorflow.python.keras.layers import Dense\n",
        "\n",
        "import numpy as np\n",
        "import pandas as pd\n",
        "\n",
        "import matplotlib.pyplot as plt\n",
        "%matplotlib inline \n",
        "\n",
        "import cv2\n",
        "\n",
        "import os\n",
        "\n",
        "import numpy as np\n",
        "from keras.preprocessing import image"
      ],
      "execution_count": null,
      "outputs": [
        {
          "output_type": "stream",
          "text": [
            "Using TensorFlow backend.\n"
          ],
          "name": "stderr"
        }
      ]
    },
    {
      "cell_type": "code",
      "metadata": {
        "id": "lwEenC6hLV1A",
        "colab_type": "code",
        "colab": {}
      },
      "source": [
        "NUM_CLASSES = 2\n",
        "\n",
        "RESNET50_POOLING_AVERAGE = 'avg'\n",
        "DENSE_LAYER_ACTIVATION = 'softmax'\n",
        "OBJECTIVE_FUNCTION = 'categorical_crossentropy'\n",
        "\n",
        "# Common accuracy metric for all outputs, but can use different metrics for different output\n",
        "LOSS_METRICS = ['accuracy']\n",
        "\n",
        "\n",
        "model = Sequential()\n",
        "\n",
        "# 1st layer as the lumpsum weights from resnet50_weights_tf_dim_ordering_tf_kernels_notop.h5\n",
        "# NOTE that this layer will be set below as NOT TRAINABLE, i.e., use it as is\n",
        "model.add(ResNet50(include_top = False, pooling = RESNET50_POOLING_AVERAGE, weights = 'imagenet'))\n",
        "\n",
        "\n",
        "# model.add(Dense(1024, activation = DENSE_LAYER_ACTIVATION))\n",
        "# 2nd layer as Dense for 8-class classification\n",
        "model.add(Dense(NUM_CLASSES, activation = DENSE_LAYER_ACTIVATION))\n",
        "\n",
        "# Say not to train first layer (ResNet) model as it is already trained\n",
        "model.layers[0].trainable = False\n",
        "\n",
        "#compiling\n",
        "model.compile(optimizer = 'adam', loss = OBJECTIVE_FUNCTION, metrics = LOSS_METRICS)\n",
        "\n",
        "# model.load_weights('./peach.h5')\n"
      ],
      "execution_count": null,
      "outputs": []
    },
    {
      "cell_type": "code",
      "metadata": {
        "id": "c8P0vqvCL53B",
        "colab_type": "code",
        "colab": {}
      },
      "source": [
        "model.summary()"
      ],
      "execution_count": null,
      "outputs": []
    },
    {
      "cell_type": "code",
      "metadata": {
        "colab_type": "code",
        "id": "IRXn2dxJTmFM",
        "colab": {
          "base_uri": "https://localhost:8080/",
          "height": 323
        },
        "outputId": "2d885546-383e-4d12-8c31-bab9942d9db9"
      },
      "source": [
        "from keras.preprocessing.image import ImageDataGenerator\n",
        "\n",
        "train_datagen = ImageDataGenerator(\n",
        "    rotation_range = 270,\n",
        "    brightness_range = (-2,2),\n",
        "        shear_range=0.2,\n",
        "        zoom_range=0.3,\n",
        "    vertical_flip=True,\n",
        "    validation_split=0.3,\n",
        "        horizontal_flip=True)\n",
        "\n",
        "test_datagen = ImageDataGenerator(vertical_flip=True,\n",
        "                                 horizontal_flip=True,\n",
        "                                 rotation_range=180,\n",
        "                                 zoom_range=0.2)\n",
        "\n",
        "val_datagen = ImageDataGenerator(vertical_flip=True,\n",
        "                                 horizontal_flip=True,\n",
        "                                 rotation_range=180,\n",
        "                                 zoom_range=0.2)\n",
        "\n",
        "train_set = train_datagen.flow_from_directory(\n",
        "        'yolo_dataset/Peach/train/',\n",
        "        target_size=(224,224),\n",
        "        batch_size=64,\n",
        "        seed=101, \n",
        "        shuffle=True,\n",
        "        class_mode='categorical')\n",
        "\n",
        "test_set = test_datagen.flow_from_directory(\n",
        "        'yolo_dataset/Peach/test/',\n",
        "        target_size=(224, 224),\n",
        "        batch_size=64,\n",
        "        shuffle=True,\n",
        "        seed=101,\n",
        "        class_mode='categorical')\n",
        "\n",
        "# val_set = val_datagen.flow_from_directory(\n",
        "#         'yolo_dataset/pepper/val/',\n",
        "#         target_size=(224, 224),\n",
        "#         batch_size=64,\n",
        "#         shuffle=True,\n",
        "#         seed=101,\n",
        "#         class_mode='categorical')\n",
        "\n",
        "history = model.fit_generator(\n",
        "        train_set,\n",
        "        epochs=8,\n",
        "        validation_data=test_set,\n",
        "        validation_steps=400)\n",
        "\n",
        "\n",
        "model.save_weights(\"./peach_8_plus5_.h5\")"
      ],
      "execution_count": null,
      "outputs": [
        {
          "output_type": "stream",
          "text": [
            "Found 2126 images belonging to 2 classes.\n",
            "Found 531 images belonging to 2 classes.\n",
            "Epoch 1/8\n",
            "34/34 [==============================] - 284s 8s/step - loss: 0.3780 - acc: 0.8768 - val_loss: 0.2816 - val_acc: 0.8745\n",
            "Epoch 2/8\n",
            "34/34 [==============================] - 273s 8s/step - loss: 0.2749 - acc: 0.9040 - val_loss: 0.1504 - val_acc: 0.9352\n",
            "Epoch 3/8\n",
            "34/34 [==============================] - 273s 8s/step - loss: 0.2380 - acc: 0.9205 - val_loss: 0.1204 - val_acc: 0.9634\n",
            "Epoch 4/8\n",
            "34/34 [==============================] - 274s 8s/step - loss: 0.2525 - acc: 0.9139 - val_loss: 0.1158 - val_acc: 0.9658\n",
            "Epoch 5/8\n",
            "34/34 [==============================] - 273s 8s/step - loss: 0.2415 - acc: 0.9149 - val_loss: 0.1175 - val_acc: 0.9645\n",
            "Epoch 6/8\n",
            "34/34 [==============================] - 272s 8s/step - loss: 0.2406 - acc: 0.9163 - val_loss: 0.1232 - val_acc: 0.9596\n",
            "Epoch 7/8\n",
            "34/34 [==============================] - 271s 8s/step - loss: 0.2361 - acc: 0.9186 - val_loss: 0.0896 - val_acc: 0.9727\n",
            "Epoch 8/8\n",
            "34/34 [==============================] - 274s 8s/step - loss: 0.2273 - acc: 0.9252 - val_loss: 0.0933 - val_acc: 0.9689\n"
          ],
          "name": "stdout"
        }
      ]
    },
    {
      "cell_type": "markdown",
      "metadata": {
        "id": "Z-TiESblhbxZ",
        "colab_type": "text"
      },
      "source": [
        "Rebuilding the network"
      ]
    },
    {
      "cell_type": "code",
      "metadata": {
        "id": "cYnvFCFUa8b2",
        "colab_type": "code",
        "colab": {}
      },
      "source": [
        "model.load_weights('./apple_8_plus5_.h5')"
      ],
      "execution_count": null,
      "outputs": []
    },
    {
      "cell_type": "code",
      "metadata": {
        "id": "62BWdcIpmjTM",
        "colab_type": "code",
        "colab": {}
      },
      "source": [
        "NUM_CLASSES = 4\n",
        "\n",
        "RESNET50_POOLING_AVERAGE = 'avg'\n",
        "DENSE_LAYER_ACTIVATION = 'softmax'\n",
        "OBJECTIVE_FUNCTION = 'categorical_crossentropy'\n",
        "\n",
        "# Common accuracy metric for all outputs, but can use different metrics for different output\n",
        "LOSS_METRICS = ['accuracy']\n",
        "\n",
        "\n",
        "model = Sequential()\n",
        "\n",
        "# 1st layer as the lumpsum weights from resnet50_weights_tf_dim_ordering_tf_kernels_notop.h5\n",
        "# NOTE that this layer will be set below as NOT TRAINABLE, i.e., use it as is\n",
        "model.add(ResNet50(include_top = False, pooling = RESNET50_POOLING_AVERAGE))\n",
        "\n",
        "#model.add(Dense(512, activation = DENSE_LAYER_ACTIVATION))\n",
        "\n",
        "# 2nd layer as Dense for 8-class classification\n",
        "model.add(Dense(NUM_CLASSES, activation = DENSE_LAYER_ACTIVATION))\n",
        "\n",
        "# Say not to train first layer (ResNet) model as it is already trained\n",
        "# model.layers[0].trainable = False\n",
        "\n",
        "#compiling\n",
        "model.compile(optimizer = 'adam', loss = OBJECTIVE_FUNCTION, metrics = LOSS_METRICS)\n",
        "\n",
        "\n",
        "model.load_weights('./apple.h5')\n"
      ],
      "execution_count": null,
      "outputs": []
    },
    {
      "cell_type": "code",
      "metadata": {
        "id": "L2silL9AgrIw",
        "colab_type": "code",
        "colab": {}
      },
      "source": [
        "from google.colab import drive\n",
        "drive.mount('/content/drive')"
      ],
      "execution_count": null,
      "outputs": []
    },
    {
      "cell_type": "code",
      "metadata": {
        "id": "LM41_y1ExGTU",
        "colab_type": "code",
        "colab": {}
      },
      "source": [
        "scores = model.evaluate_generator(generator=test_set)\n",
        "print(\"%s: %.2f%%\" % (model.metrics_names[1], scores[1]*100))"
      ],
      "execution_count": null,
      "outputs": []
    },
    {
      "cell_type": "code",
      "metadata": {
        "id": "_dj8uaf1h--d",
        "colab_type": "code",
        "colab": {
          "base_uri": "https://localhost:8080/",
          "height": 276
        },
        "outputId": "70f1494e-b3cd-4a4f-d10e-936966c9179c"
      },
      "source": [
        "plt.figure(1, figsize = (15,8)) \n",
        "    \n",
        "plt.subplot(221)  \n",
        "plt.plot(history.history['acc'])  \n",
        "plt.plot(history.history['val_acc'])  \n",
        "plt.title('Peach model accuracy')  \n",
        "plt.ylabel('accuracy')  \n",
        "plt.xlabel('epoch')  \n",
        "plt.legend(['train', 'valid']) \n",
        "    \n",
        "plt.subplot(222)  \n",
        "plt.plot(history.history['loss'])  \n",
        "plt.plot(history.history['val_loss'])  \n",
        "plt.title('Peach model loss')  \n",
        "plt.ylabel('loss')  \n",
        "plt.xlabel('epoch')  \n",
        "plt.legend(['train', 'valid']) \n",
        "\n",
        "plt.show()"
      ],
      "execution_count": null,
      "outputs": [
        {
          "output_type": "display_data",
          "data": {
            "image/png": "[encoded data removed]",
            "text/plain": [
              "<Figure size 1080x576 with 2 Axes>"
            ]
          },
          "metadata": {
            "tags": []
          }
        }
      ]
    },
    {
      "cell_type": "markdown",
      "metadata": {
        "id": "7psiLo0mhjHF",
        "colab_type": "text"
      },
      "source": [
        "Prediction tests"
      ]
    },
    {
      "cell_type": "code",
      "metadata": {
        "id": "6yzGYR1udMTz",
        "colab_type": "code",
        "colab": {}
      },
      "source": [
        "thresh = 0.60\n",
        "test_image = image.load_img('yolo_dataset/Dataset/train/Potato/potato_298.JPG',target_size=(224,224))  \n",
        "test_image = image.img_to_array(test_image)\n",
        "test_image = np.expand_dims(test_image,axis=0)\n",
        "result = model.predict(test_image)\n",
        "\n",
        "train_set.class_indices\n",
        "if result[0][0] >= thresh:\n",
        "     prediction = 'Apple'\n",
        "elif result[0][1] >= thresh :\n",
        "        prediction = 'Cherry'\n",
        "elif result[0][2] >= thresh :\n",
        "        prediction = 'Grape'\n",
        "elif result[0][3] >= thresh :\n",
        "        prediction = 'Peach'    \n",
        "elif result[0][4] >= thresh :\n",
        "        prediction = 'Pepper'\n",
        "elif result[0][5] >= thresh :\n",
        "        prediction = 'Potato'  \n",
        "elif result[0][6] >= thresh :\n",
        "        prediction = 'Strawberry'  \n",
        "else:\n",
        "        prediction = 'Tomato'       \n",
        "\n",
        "\n",
        "print(result)\n",
        "print(prediction)\n",
        "print(max(max(result)))\n",
        "print(min(min(result)))"
      ],
      "execution_count": null,
      "outputs": []
    },
    {
      "cell_type": "code",
      "metadata": {
        "id": "xAIiqoYEivQN",
        "colab_type": "code",
        "colab": {}
      },
      "source": [
        "model.save_weights(\"./peach.h5\")"
      ],
      "execution_count": null,
      "outputs": []
    }
  ]
}